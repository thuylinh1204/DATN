{
  "nbformat": 4,
  "nbformat_minor": 0,
  "metadata": {
    "colab": {
      "provenance": [],
      "private_outputs": true,
      "authorship_tag": "ABX9TyOvmEHOjg8iLYWFbSlmgWlB",
      "include_colab_link": true
    },
    "kernelspec": {
      "name": "python3",
      "display_name": "Python 3"
    },
    "language_info": {
      "name": "python"
    },
    "accelerator": "TPU",
    "gpuClass": "standard"
  },
  "cells": [
    {
      "cell_type": "markdown",
      "metadata": {
        "id": "view-in-github",
        "colab_type": "text"
      },
      "source": [
        "<a href=\"https://colab.research.google.com/github/thuylinh1204/DATN/blob/CrawlData/ExtractText.ipynb\" target=\"_parent\"><img src=\"https://colab.research.google.com/assets/colab-badge.svg\" alt=\"Open In Colab\"/></a>"
      ]
    },
    {
      "cell_type": "code",
      "source": [
        "from google.colab import drive\n",
        "import os\n",
        "drive.mount('/content/drive')"
      ],
      "metadata": {
        "id": "JtDCAzyRtSJg"
      },
      "execution_count": null,
      "outputs": []
    },
    {
      "cell_type": "code",
      "source": [
        "!pip install jsonlines\n",
        "!pip install python-docx "
      ],
      "metadata": {
        "id": "Bo3DHnXzl61h"
      },
      "execution_count": null,
      "outputs": []
    },
    {
      "cell_type": "code",
      "source": [
        "import docx\n",
        "from google.colab import files\n",
        "import jsonlines\n",
        "import json\n",
        "from copy import deepcopy"
      ],
      "metadata": {
        "id": "kv3edA0csf_R"
      },
      "execution_count": null,
      "outputs": []
    },
    {
      "cell_type": "code",
      "source": [
        "def getText(filename):\n",
        "    doc = docx.Document(filename)\n",
        "    fullText = []\n",
        "    for para in doc.paragraphs:\n",
        "        fullText.append(para.text)\n",
        "    return '\\n'.join(fullText)"
      ],
      "metadata": {
        "id": "NdL5KH47m9L8"
      },
      "execution_count": null,
      "outputs": []
    },
    {
      "cell_type": "code",
      "source": [
        "docxString = getText(\"/content/drive/MyDrive/PhapLuat/2022-11-Luat_So_huu_tri_tue-HN_lan_3.docx\")\n",
        "print(docxString)"
      ],
      "metadata": {
        "id": "OmhhpJJ-3teJ"
      },
      "execution_count": null,
      "outputs": []
    },
    {
      "cell_type": "code",
      "source": [
        "file_name = '/content/drive/MyDrive/PhapLuat/2022-11-Luat_So_huu_tri_tue-HN_lan_3.docx' \n",
        "doc = docx.Document(file_name)"
      ],
      "metadata": {
        "id": "31WCFv7Wmh_x"
      },
      "execution_count": null,
      "outputs": []
    },
    {
      "cell_type": "code",
      "source": [
        "n =len(doc.paragraphs)\n",
        "n"
      ],
      "metadata": {
        "id": "GZbnVBpoL9Pg"
      },
      "execution_count": null,
      "outputs": []
    },
    {
      "cell_type": "code",
      "source": [
        "part = 'Phần'\n",
        "chapter = 'Chương'\n",
        "section = 'Mục'\n",
        "episode = 'Điều'\n",
        "tags =['1.','2.','3.','4.','5.','6.','7.','8.','9.','10.',\n",
        "       '11.','12.','12a.','13.','14.','15.','16.','17.','18.','19.','20.',\n",
        "       '21.','22.','22a.','23.','24.','25.','26.','27.','28.','29.','30.',\n",
        "       'a)','b)','c)','d)','đ)','e).','f)','g)','h)','i)','k)',\n",
        "       'l)','m)','n)','o)','p)','q)','s)','t)','u)','v)','x)','y)','z)']\n"
      ],
      "metadata": {
        "id": "j371b_WnQwBw"
      },
      "execution_count": null,
      "outputs": []
    },
    {
      "cell_type": "code",
      "source": [
        "not_parts = ['Chương','Mục','Điều','1.','2.','3.','4.','5.','6.','7.','8.','9.','10.',\n",
        "       '11.','12.','12a.','13.','14.','15.','16.','17.','18.','19.','20.',\n",
        "       '21.','22.','22a.','23.','24.','25.','26.','27.','28.','29.','30.',\n",
        "       'a)','b)','c)','d)','đ)','e).','f)','g)','h)','i)','k)',\n",
        "       'l)','m)','n)','o)','p)','q)','s)','t)','u)','v)','x)','y)','z)']\n",
        "not_chapters =  ['Phần','Mục','Điều','1.','2.','3.','4.','5.','6.','7.','8.','9.','10.',\n",
        "       '11.','12.','12a.','13.','14.','15.','16.','17.','18.','19.','20.',\n",
        "       '21.','22.','22a.','23.','24.','25.','26.','27.','28.','29.','30.',\n",
        "       'a)','b)','c)','d)','đ)','e).','f)','g)','h)','i)','k)',\n",
        "       'l)','m)','n)','o)','p)','q)','s)','t)','u)','v)','x)','y)','z)']\n",
        "not_sections = ['Phần','Chương','Điều','1.','2.','3.','4.','5.','6.','7.','8.','9.','10.',\n",
        "       '11.','12.','12a.','13.','14.','15.','16.','17.','18.','19.','20.',\n",
        "       '21.','22.','22a.','23.','24.','25.','26.','27.','28.','29.','30.',\n",
        "       'a)','b)','c)','d)','đ)','e).','f)','g)','h)','i)','k)',\n",
        "       'l)','m)','n)','o)','p)','q)','s)','t)','u)','v)','x)','y)','z)']\n",
        "not_episodes = ['Phần','Chương','Mục','1.','2.','3.','4.','5.','6.','7.','8.','9.','10.',\n",
        "       '11.','12.','12a.','13.','14.','15.','16.','17.','18.','19.','20.',\n",
        "       '21.','22.','22a.','23.','24.','25.','26.','27.','28.','29.','30.',\n",
        "       'a)','b)','c)','d)','đ)','e).','f)','g)','h)','i)','k)',\n",
        "       'l)','m)','n)','o)','p)','q)','s)','t)','u)','v)','x)','y)','z)']      \n",
        "not_tags = ['Phần','Chương','Điều','Mục']"
      ],
      "metadata": {
        "id": "D065KvH33BaH"
      },
      "execution_count": null,
      "outputs": []
    },
    {
      "cell_type": "code",
      "source": [
        "time = []\n",
        "for i in range(6, 10):\n",
        "  time.append(doc.paragraphs[i].text)\n",
        "\n",
        "time[0:5] = [' '.join(time[0:5])]\n",
        "print(time)"
      ],
      "metadata": {
        "id": "d2VgL_NYrN9I"
      },
      "execution_count": null,
      "outputs": []
    },
    {
      "cell_type": "code",
      "source": [
        "title = []\n",
        "for i in range(3, 5):\n",
        "  title.append(doc.paragraphs[i].text)\n",
        "\n",
        "title[0:2] = [' '.join(title[0:2])]\n",
        "print(title)"
      ],
      "metadata": {
        "id": "UaJFGvedvM7l"
      },
      "execution_count": null,
      "outputs": []
    },
    {
      "cell_type": "code",
      "source": [
        "base = []\n",
        "for i in range(11, 12):\n",
        "  base.append(doc.paragraphs[i].text)\n",
        "\n",
        "print(base)"
      ],
      "metadata": {
        "id": "vVwzo5npIZoe"
      },
      "execution_count": null,
      "outputs": []
    },
    {
      "cell_type": "code",
      "source": [
        "array_part = []\n",
        "index_part = -1\n",
        "index_chapter = -1\n",
        "index_section = -1\n",
        "index_episode = -1\n",
        "index_context = -1\n",
        "phan = {}"
      ],
      "metadata": {
        "id": "aUFZTefR3JKY"
      },
      "execution_count": null,
      "outputs": []
    },
    {
      "cell_type": "code",
      "source": [
        "i =14\n",
        "while i<n-1:\n",
        "  line = doc.paragraphs[i].text\n",
        "  if line.startswith(part):\n",
        "      if index_part >= 0:\n",
        "          array_part.append(deepcopy(phan))\n",
        "          index_chapter = -1\n",
        "          index_section = -1\n",
        "          index_episode = -1\n",
        "          index_context = -1\n",
        "          phan = {}\n",
        "      index_part += 1 \n",
        "\n",
        "\n",
        "      part_name = doc.paragraphs[i+1].text\n",
        "      index_part +=1  \n",
        "      i+=2\n",
        "      next_line = doc.paragraphs[i].text\n",
        "      while not next_line.startswith(tuple(not_parts)): \n",
        "        part_name += '  '+next_line\n",
        "        i+=1\n",
        "        next_line = doc.paragraphs[i].text\n",
        "      phan['part_name'] = part_name\n",
        "      phan['chapter'] = []\n",
        "      continue\n",
        "  \n",
        "  elif line.startswith(chapter):\n",
        "      if index_chapter >= 0:\n",
        "          index_section = -1\n",
        "          index_episode = -1\n",
        "          index_context = -1\n",
        "      index_chapter += 1\n",
        "\n",
        "      chapter_name = doc.paragraphs[i+1].text\n",
        "      i+=2\n",
        "      next_line = doc.paragraphs[i].text\n",
        "      while not next_line.startswith(tuple(not_chapters)): \n",
        "        chapter_name += '  '+next_line\n",
        "        i+=1\n",
        "        next_line = doc.paragraphs[i].text\n",
        "      phan['chapter'].append({})\n",
        "      phan['chapter'][index_chapter]['chapter_name'] = chapter_name\n",
        "      phan['chapter'][index_chapter]['section'] = []\n",
        "      continue\n",
        "\n",
        "  elif line.startswith(section):\n",
        "      if index_section >= 0:\n",
        "          index_episode = -1\n",
        "          index_context = -1\n",
        "      index_section += 1\n",
        "\n",
        "      section_name = doc.paragraphs[i+1].text\n",
        "      i+=2\n",
        "      next_line = doc.paragraphs[i].text\n",
        "      while not next_line.startswith(tuple(not_sections)): \n",
        "        section_name += '  '+next_line\n",
        "        i+=1\n",
        "        next_line = doc.paragraphs[i].text\n",
        "\n",
        "      phan['chapter'][index_chapter]['section'].append({})\n",
        "      phan['chapter'][index_chapter]['section'][index_section]['section_name'] = section_name\n",
        "      phan['chapter'][index_chapter]['section'][index_section]['episode'] = []\n",
        "      continue\n",
        "\n",
        "  elif line.startswith(episode):\n",
        "        if index_episode >= 0:\n",
        "            index_context = -1\n",
        "        index_episode += 1\n",
        "        episode_name = doc.paragraphs[i].text\n",
        "        if index_chapter == -1:\n",
        "            index_chapter += 1 \n",
        "            phan['chapter'].append({})\n",
        "            phan['chapter'][index_chapter]['section'] = []\n",
        "            index_section+=1\n",
        "            phan['chapter'][index_chapter]['section'].append({})\n",
        "            phan['chapter'][index_chapter]['section'][index_section]['episode'] = []\n",
        "        if index_section == -1:\n",
        "            index_section+=1\n",
        "            phan['chapter'][index_chapter]['section'].append({})\n",
        "            phan['chapter'][index_chapter]['section'][index_section]['episode'] = []    \n",
        "        i+=1\n",
        "         \n",
        "        phan['chapter'][index_chapter]['section'][index_section]['episode'].append({})\n",
        "        phan['chapter'][index_chapter]['section'][index_section]['episode'][index_episode]['episode_name'] = episode_name\n",
        "        phan['chapter'][index_chapter]['section'][index_section]['episode'][index_episode]['context'] = []\n",
        "        continue\n",
        "\n",
        "  elif (line.startswith(tag) for tag in tags):\n",
        "      context= doc.paragraphs[i].text\n",
        "      index_context+=1\n",
        "      phan['chapter'][index_chapter]['section'][index_section]['episode'][index_episode]['context'].append(doc.paragraphs[i].text)\n",
        "      i+=1\n"
      ],
      "metadata": {
        "id": "rgo48Ur4Mv4T"
      },
      "execution_count": null,
      "outputs": []
    },
    {
      "cell_type": "code",
      "source": [
        "len(array_part)"
      ],
      "metadata": {
        "id": "K3_I5tWvodAR"
      },
      "execution_count": null,
      "outputs": []
    },
    {
      "cell_type": "code",
      "source": [
        "array_part[1]"
      ],
      "metadata": {
        "id": "fpz6H18opoh_"
      },
      "execution_count": null,
      "outputs": []
    },
    {
      "cell_type": "code",
      "source": [
        "rule = list()\n",
        "processed = dict()\n",
        "processed['title'] = title\n",
        "processed['time'] = time\n",
        "processed['base'] = base\n",
        "processed['contents'] = array_part\n",
        "\n",
        "rule.append(processed)"
      ],
      "metadata": {
        "id": "crko6g2xwMjM"
      },
      "execution_count": null,
      "outputs": []
    },
    {
      "cell_type": "code",
      "source": [
        "\n",
        "with jsonlines.open('/content/drive/MyDrive/PhapLuat/crawl_luat_so_huu_tri_tue_HN.jsonl', 'w') as writer:\n",
        "    writer.write_all(array_part)"
      ],
      "metadata": {
        "id": "kURMM0zRqFob"
      },
      "execution_count": null,
      "outputs": []
    },
    {
      "cell_type": "code",
      "source": [
        "\n",
        "with open('/content/drive/MyDrive/PhapLuat/crawl_luat_so_huu_tri_tue_HN.jsonl', 'w', encoding='utf8') as f:\n",
        "    for entry in rule:\n",
        "        # print(entry, file=f)\n",
        "        json.dump(entry, f, ensure_ascii=False)\n",
        "        print('\\n', file=f)"
      ],
      "metadata": {
        "id": "G8xoprWdqz6Z"
      },
      "execution_count": null,
      "outputs": []
    }
  ]
}