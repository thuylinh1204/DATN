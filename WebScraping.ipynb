{
  "nbformat": 4,
  "nbformat_minor": 0,
  "metadata": {
    "colab": {
      "provenance": [],
      "private_outputs": true,
      "authorship_tag": "ABX9TyOzm0ku/5Nmii1jNLkm8tqx",
      "include_colab_link": true
    },
    "kernelspec": {
      "name": "python3",
      "display_name": "Python 3"
    },
    "language_info": {
      "name": "python"
    },
    "accelerator": "TPU",
    "gpuClass": "standard"
  },
  "cells": [
    {
      "cell_type": "markdown",
      "metadata": {
        "id": "view-in-github",
        "colab_type": "text"
      },
      "source": [
        "<a href=\"https://colab.research.google.com/github/thuylinh1204/DATN/blob/CrawlData/WebScraping.ipynb\" target=\"_parent\"><img src=\"https://colab.research.google.com/assets/colab-badge.svg\" alt=\"Open In Colab\"/></a>"
      ]
    },
    {
      "cell_type": "code",
      "source": [
        "from google.colab import drive\n",
        "import os\n",
        "drive.mount('/content/drive')"
      ],
      "metadata": {
        "id": "JtDCAzyRtSJg"
      },
      "execution_count": null,
      "outputs": []
    },
    {
      "cell_type": "code",
      "source": [
        "values=[974684,974685,974686,974687,974688,974689,974690,974691,974692,974693,\n",
        "974694,974695,974696,974697,974698,974699,974759,974760,974761,974762,\n",
        "974763,974764,974765,974766,974767,974769,974770,974771,974772,974773,\n",
        "974774,960768,960769,960770,960771,960772,960773,960774,960775,960776,\n",
        "974775,974776,974777,974778,974779,974780,974781,974782,974808,974807,\n",
        "974806,974786,974787,974788,974789,974790,974791,974792,974793,974794,\n",
        "974795,974796,974797,974798,974799,974800,974801,974802,974803,974804,\n",
        "974805,917206,974899,974900,974901,974902,974903,974904,974905,974906,\n",
        "974907,974908,974909,964096,964097,964098,974910,974911,974912,974913,\n",
        "974914,974915,974916,974917,974918,974919,974920,974921,974922,974923,\n",
        "974924,974925,974926,974927,974928,974929,974930,974931,974932,974933,\n",
        "974934,974935,974936,974937,974938,974939,974940,974941,974942,974943,\n",
        "974944,974945,974946,974947,974948,974949,974950,974951,974952,974953,\n",
        "974954,974955,974956,974957,974958,974959,974960,974961,974962,964418,\n",
        "964419,964307,964420,964421,964422,964423,964424,964425,974757,964427,\n",
        "964428,964429,964309,964426,964308,964310,964311]"
      ],
      "metadata": {
        "id": "2D5nS8NT_zs-"
      },
      "execution_count": null,
      "outputs": []
    },
    {
      "cell_type": "code",
      "source": [
        "link = 'https://www.ipvietnam.gov.vn/web/guest/hoi-dap?p_p_id=legal_faq_WAR_viettelfaqportlet&p_p_lifecycle=0&p_p_state=normal&p_p_mode=view&p_p_col_id=column-1&p_p_col_count=1&_legal_faq_WAR_viettelfaqportlet_jspPage=%2Fhtml%2Flegal_faq_view%2Fview_faq_entry.jsp&p_r_p_564233524_legalFAQEntryId='"
      ],
      "metadata": {
        "id": "9CBeiQjNEaUc"
      },
      "execution_count": null,
      "outputs": []
    },
    {
      "cell_type": "code",
      "source": [
        "\n",
        "links= []\n",
        "for ele in values:\n",
        "  links.append(link+str(ele))  \n",
        "\n",
        "# print(i)"
      ],
      "metadata": {
        "id": "vE2DYBkID1aO"
      },
      "execution_count": null,
      "outputs": []
    },
    {
      "cell_type": "code",
      "source": [
        "print(links[0])"
      ],
      "metadata": {
        "id": "6UvsVRciFuM2"
      },
      "execution_count": null,
      "outputs": []
    },
    {
      "cell_type": "code",
      "source": [
        "import requests\n",
        "from urllib3.exceptions import InsecureRequestWarning\n",
        "from urllib3 import disable_warnings\n",
        "from bs4 import BeautifulSoup\n"
      ],
      "metadata": {
        "id": "qC_bUEnRunqG"
      },
      "execution_count": null,
      "outputs": []
    },
    {
      "cell_type": "code",
      "source": [
        "\n",
        "disable_warnings(InsecureRequestWarning)\n",
        "\n",
        "page = requests.get(links[0], verify=False)\n",
        "soup = BeautifulSoup(page.content, 'html.parser')\n",
        "\n",
        "# Extract title of page\n",
        "page_title = soup.title.text\n",
        "\n",
        "# print the result\n",
        "# print(soup)\n",
        "print(page_title)\n"
      ],
      "metadata": {
        "id": "hiCjzBsTjCer"
      },
      "execution_count": null,
      "outputs": []
    },
    {
      "cell_type": "code",
      "source": [
        "import requests\n",
        "from urllib3.exceptions import InsecureRequestWarning\n",
        "from urllib3 import disable_warnings\n",
        "from bs4 import BeautifulSoup\n",
        "\n",
        "disable_warnings(InsecureRequestWarning)\n",
        "all_qas = []\n",
        "\n",
        "for page_link in links:\n",
        "  page = requests.get(page_link, verify=False)\n",
        "  soup = BeautifulSoup(page.content, 'html.parser')\n",
        "\n",
        "  question = soup.select('div.ask_content')\n",
        "  question =question[0].text\n",
        "\n",
        "  answer = soup.select('div.answer_content')\n",
        "  answer = answer[0].text\n",
        "\n",
        "  qas = {\n",
        "        \"question\": question,\n",
        "        \"answer\": answer\n",
        "      }\n",
        "  all_qas.append(qas)\n"
      ],
      "metadata": {
        "id": "Hd-qO2eYtsHX"
      },
      "execution_count": null,
      "outputs": []
    },
    {
      "cell_type": "code",
      "source": [
        "all_qas[0:5]"
      ],
      "metadata": {
        "id": "oo4RLJrrPJNE"
      },
      "execution_count": null,
      "outputs": []
    },
    {
      "cell_type": "code",
      "source": [
        "dataset = {\n",
        "          \"source\" : page_title,\n",
        "          \"QAS\" : all_qas\n",
        "        }\n",
        "\n",
        "\n"
      ],
      "metadata": {
        "id": "sLqJjn9oI3rG"
      },
      "execution_count": null,
      "outputs": []
    },
    {
      "cell_type": "code",
      "source": [
        "len(all_qas)"
      ],
      "metadata": {
        "id": "dkFvh3SeKHe8"
      },
      "execution_count": null,
      "outputs": []
    },
    {
      "cell_type": "code",
      "source": [
        "!pip install python-docx \n",
        "import docx\n",
        "from google.colab import files\n",
        "from tqdm import tqdm\n",
        "import json"
      ],
      "metadata": {
        "id": "VGUz6cQpJdbX"
      },
      "execution_count": null,
      "outputs": []
    },
    {
      "cell_type": "code",
      "source": [
        "file_name = '/content/drive/MyDrive/PhapLuat/hoidap_luatSHTT.docx'\n",
        "doc = docx.Document(file_name)"
      ],
      "metadata": {
        "id": "DrXsJBo9JWd7"
      },
      "execution_count": null,
      "outputs": []
    },
    {
      "cell_type": "code",
      "source": [
        "n= len(doc.paragraphs)\n",
        "n"
      ],
      "metadata": {
        "id": "qaIcM4HXKBNR"
      },
      "execution_count": null,
      "outputs": []
    },
    {
      "cell_type": "code",
      "source": [
        "2%2 == 0"
      ],
      "metadata": {
        "id": "xBfJawA9NEVW"
      },
      "execution_count": null,
      "outputs": []
    },
    {
      "cell_type": "code",
      "source": [
        "doc.paragraphs[1].text"
      ],
      "metadata": {
        "id": "Zya7lYwPM1ha"
      },
      "execution_count": null,
      "outputs": []
    },
    {
      "cell_type": "code",
      "source": [
        "luat_question =[]\n",
        "luat_answer= []\n",
        "all_qas1 = []\n",
        "\n",
        "luat_title ='102 Câu hỏi nhận định đúng sai Luật Sở hữu trí tuệ '\n",
        "\n",
        "for i in range(0,n,2):\n",
        "  line = doc.paragraphs[i].text\n",
        "  next_line = doc.paragraphs[i+1].text\n",
        "  luat_question ='Có phải '+line+' hay không?'\n",
        "  luat_answer= next_line\n",
        "\n",
        "  qas1 = {\n",
        "      \"question\": luat_question,\n",
        "      \"answer\": luat_answer\n",
        "    }  \n",
        "\n",
        "  all_qas1.append(qas1)"
      ],
      "metadata": {
        "id": "CbH7mn5JJxU_"
      },
      "execution_count": null,
      "outputs": []
    },
    {
      "cell_type": "code",
      "source": [
        "len(all_qas1)"
      ],
      "metadata": {
        "id": "FojI6czWLn1o"
      },
      "execution_count": null,
      "outputs": []
    },
    {
      "cell_type": "code",
      "source": [
        "luat_dataset = {\n",
        "          \"source\" : luat_title,\n",
        "          \"QAS\" : all_qas1\n",
        "        }"
      ],
      "metadata": {
        "id": "6j38gz4aVF5b"
      },
      "execution_count": null,
      "outputs": []
    },
    {
      "cell_type": "code",
      "source": [
        "join_dataset=[]\n",
        "join_dataset.append(luat_dataset)\n",
        "join_dataset.append(dataset)"
      ],
      "metadata": {
        "id": "Qd5xZewbVMWW"
      },
      "execution_count": null,
      "outputs": []
    },
    {
      "cell_type": "code",
      "source": [
        "join_dataset\n"
      ],
      "metadata": {
        "id": "L6x11eDCWl6w"
      },
      "execution_count": null,
      "outputs": []
    },
    {
      "cell_type": "code",
      "source": [
        "import json\n",
        "from tqdm import tqdm"
      ],
      "metadata": {
        "id": "w-iZGRztKp20"
      },
      "execution_count": null,
      "outputs": []
    },
    {
      "cell_type": "code",
      "source": [
        "json_object = json.dumps(luat_dataset, indent=4, ensure_ascii=False)"
      ],
      "metadata": {
        "id": "oQPqBRpaKl_N"
      },
      "execution_count": null,
      "outputs": []
    },
    {
      "cell_type": "code",
      "source": [
        "json_object_merge = json.dumps(join_dataset, indent=4, ensure_ascii=False)"
      ],
      "metadata": {
        "id": "u-G3ndsgXTFg"
      },
      "execution_count": null,
      "outputs": []
    },
    {
      "cell_type": "code",
      "source": [
        "with open(\"/content/drive/MyDrive/PhapLuat/HoiDap.json\", \"w\", encoding='utf-8') as result:\n",
        "    result.write(json_object_merge)"
      ],
      "metadata": {
        "id": "22pzNuOCK8AM"
      },
      "execution_count": null,
      "outputs": []
    },
    {
      "cell_type": "code",
      "source": [
        "with open(\"/content/drive/MyDrive/PhapLuat/luat_QA.json\", \"w\", encoding='utf-8') as result:\n",
        "    result.write(json_object)"
      ],
      "metadata": {
        "id": "bNU_yoSKW2mg"
      },
      "execution_count": null,
      "outputs": []
    }
  ]
}